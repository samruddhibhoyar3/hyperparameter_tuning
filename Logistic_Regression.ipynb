{
 "cells": [
  {
   "cell_type": "markdown",
   "metadata": {},
   "source": [
    "# Classification Algorithms"
   ]
  },
  {
   "cell_type": "markdown",
   "metadata": {},
   "source": [
    "### Logistic Regression\n",
    "\n",
    "In sklearn Regularization is applied by default, which is common in machine learning but not in statistics. Another advantage of regularization is that it improves numerical stability.\n",
    "\n",
    "The solvers implemented in the class LogisticRegression are \n",
    "* liblinear : It uses a coordinate descent (CD) algorithm. However, the CD algorithm implemented in liblinear cannot learn a true multinomial (multiclass) model; instead, the optimization problem is decomposed in a “one-vs-rest” fashion so separate binary classifiers are trained for all classes.\n",
    "* lbfgs : It is an optimization algorithm that approximates the Broyden–Fletcher–Goldfarb–Shanno algorithm, which belongs to quasi-Newton methods. \n",
    "  The “lbfgs” solver is recommended for use for small data-sets but for larger datasets its performance suffers.\n",
    "* sag : It uses Stochastic Average Gradient descent. It is faster than other solvers for large datasets, when both the number of samples and the number of features are large.\n",
    "* saga : It is a variant of “sag” that also supports the non-smooth penalty=\"l1\". This is therefore the solver of choice for sparse multinomial logistic regression. It is also the only solver that supports penalty=\"elasticnet\".\n",
    "The “lbfgs”, “sag” and “newton-cg” solvers only support regularization or no regularization, and are found to converge faster for some high-dimensional data.\n",
    "\n",
    "Setting multi_class to “multinomial” with these solvers learns a true multinomial logistic regression model, which means that its probability estimates should be better calibrated than the default “one-vs-rest” setting.\n",
    "\n",
    "<table left-margin=\"0\", border=\"1\">\n",
    "<colgroup>\n",
    "<col width=\"30%\" />\n",
    "<col width=\"17%\" />\n",
    "<col width=\"13%\" />\n",
    "<col width=\"17%\" />\n",
    "<col width=\"11%\" />\n",
    "<col width=\"12%\" />\n",
    "</colgroup>\n",
    "<tbody valign=\"top\">\n",
    "<tr><td>&#160;</td>\n",
    "<td colspan=\"5\"><strong>Solvers</strong></td>\n",
    "</tr>\n",
    "<tr><td><strong>Penalties</strong></td>\n",
    "<td><strong>‘liblinear’</strong></td>\n",
    "<td><strong>‘lbfgs’</strong></td>\n",
    "<td><strong>‘newton-cg’</strong></td>\n",
    "<td><strong>‘sag’</strong></td>\n",
    "<td><strong>‘saga’</strong></td>\n",
    "</tr>\n",
    "<tr><td>Multinomial + L2 penalty</td>\n",
    "<td>no</td>\n",
    "<td>yes</td>\n",
    "<td>yes</td>\n",
    "<td>yes</td>\n",
    "<td>yes</td>\n",
    "</tr>\n",
    "<tr><td>OVR + L2 penalty</td>\n",
    "<td>yes</td>\n",
    "<td>yes</td>\n",
    "<td>yes</td>\n",
    "<td>yes</td>\n",
    "<td>yes</td>\n",
    "</tr>\n",
    "<tr><td>Multinomial + L1 penalty</td>\n",
    "<td>no</td>\n",
    "<td>no</td>\n",
    "<td>no</td>\n",
    "<td>no</td>\n",
    "<td>yes</td>\n",
    "</tr>\n",
    "<tr><td>OVR + L1 penalty</td>\n",
    "<td>yes</td>\n",
    "<td>no</td>\n",
    "<td>no</td>\n",
    "<td>no</td>\n",
    "<td>yes</td>\n",
    "</tr>\n",
    "<tr><td>Elastic-Net</td>\n",
    "<td>no</td>\n",
    "<td>no</td>\n",
    "<td>no</td>\n",
    "<td>no</td>\n",
    "<td>yes</td>\n",
    "</tr>\n",
    "<tr><td>No penalty (‘none’)</td>\n",
    "<td>no</td>\n",
    "<td>yes</td>\n",
    "<td>yes</td>\n",
    "<td>yes</td>\n",
    "<td>yes</td>\n",
    "</tr>\n",
    "<tr><td><strong>Behaviors</strong></td>\n",
    "<td colspan=\"5\">&#160;</td>\n",
    "</tr>\n",
    "<tr><td>Penalize the intercept (bad)</td>\n",
    "<td>yes</td>\n",
    "<td>no</td>\n",
    "<td>no</td>\n",
    "<td>no</td>\n",
    "<td>no</td>\n",
    "</tr>\n",
    "<tr><td>Faster for large datasets</td>\n",
    "<td>no</td>\n",
    "<td>no</td>\n",
    "<td>no</td>\n",
    "<td>yes</td>\n",
    "<td>yes</td>\n",
    "</tr>\n",
    "<tr><td>Robust to unscaled datasets</td>\n",
    "<td>yes</td>\n",
    "<td>yes</td>\n",
    "<td>yes</td>\n",
    "<td>no</td>\n",
    "<td>no</td>\n",
    "</tr>\n",
    "</tbody>\n",
    "</table>\n",
    "\n",
    "**The “lbfgs” solver is used by default for its robustness. For large datasets the “saga” solver is usually faster.**\n",
    "\n",
    "For large dataset, you may also consider using SGDClassifier with ‘log’ loss, which might be even faster but requires more tuning."
   ]
  },
  {
   "cell_type": "markdown",
   "metadata": {},
   "source": [
    "## Business Case\n",
    "**Problem Statement**\n",
    "\n",
    "A Bank wants to automate the loan eligibility process (real time) based on customer detail provided while filling online application form. \n",
    "These details are given below. \n",
    "\n",
    "To automate this process, they have given a problem to identify the customers segments, those are eligible for loan amount so that they can specifically target these customers. \n",
    "\n",
    "Here they have provided a partial data set."
   ]
  },
  {
   "cell_type": "markdown",
   "metadata": {},
   "source": [
    "**The Data**\n",
    "\n",
    "The Data has following parameters\n",
    "\n",
    "![](bankloan.png)\n"
   ]
  },
  {
   "cell_type": "markdown",
   "metadata": {},
   "source": [
    "#### 1. Import Data"
   ]
  },
  {
   "cell_type": "code",
   "execution_count": 1,
   "metadata": {},
   "outputs": [],
   "source": [
    "from pandas import read_csv\n",
    "import time\n",
    "import pandas as pd\n",
    "import numpy as np\n",
    "import matplotlib.pyplot as plt\n",
    "from statsmodels.stats.outliers_influence import variance_inflation_factor\n",
    "import scipy as sc\n",
    "import seaborn as sns\n",
    "from sklearn.linear_model import LogisticRegression\n",
    "from sklearn.model_selection import train_test_split\n",
    "import sklearn.metrics as skm \n",
    "from sklearn.feature_selection import mutual_info_classif\n",
    "import warnings\n",
    "warnings.filterwarnings('ignore')"
   ]
  },
  {
   "cell_type": "code",
   "execution_count": 2,
   "metadata": {},
   "outputs": [
    {
     "data": {
      "text/html": [
       "<div>\n",
       "<style scoped>\n",
       "    .dataframe tbody tr th:only-of-type {\n",
       "        vertical-align: middle;\n",
       "    }\n",
       "\n",
       "    .dataframe tbody tr th {\n",
       "        vertical-align: top;\n",
       "    }\n",
       "\n",
       "    .dataframe thead th {\n",
       "        text-align: right;\n",
       "    }\n",
       "</style>\n",
       "<table border=\"1\" class=\"dataframe\">\n",
       "  <thead>\n",
       "    <tr style=\"text-align: right;\">\n",
       "      <th></th>\n",
       "      <th>Loan_ID</th>\n",
       "      <th>Loan_Status</th>\n",
       "      <th>Gender</th>\n",
       "      <th>Married</th>\n",
       "      <th>Dependents</th>\n",
       "      <th>Education</th>\n",
       "      <th>Self_Employed</th>\n",
       "      <th>ApplicantIncome</th>\n",
       "      <th>CoapplicantIncome</th>\n",
       "      <th>LoanAmount</th>\n",
       "      <th>Loan_Amount_Term</th>\n",
       "      <th>Credit_History</th>\n",
       "      <th>Property_Area</th>\n",
       "    </tr>\n",
       "  </thead>\n",
       "  <tbody>\n",
       "    <tr>\n",
       "      <th>0</th>\n",
       "      <td>LP001002</td>\n",
       "      <td>1</td>\n",
       "      <td>Male</td>\n",
       "      <td>No</td>\n",
       "      <td>0</td>\n",
       "      <td>Graduate</td>\n",
       "      <td>No</td>\n",
       "      <td>5849</td>\n",
       "      <td>0.0</td>\n",
       "      <td>-1</td>\n",
       "      <td>360</td>\n",
       "      <td>1</td>\n",
       "      <td>Urban</td>\n",
       "    </tr>\n",
       "    <tr>\n",
       "      <th>1</th>\n",
       "      <td>LP001003</td>\n",
       "      <td>0</td>\n",
       "      <td>Male</td>\n",
       "      <td>Yes</td>\n",
       "      <td>1</td>\n",
       "      <td>Graduate</td>\n",
       "      <td>No</td>\n",
       "      <td>4583</td>\n",
       "      <td>1508.0</td>\n",
       "      <td>128</td>\n",
       "      <td>360</td>\n",
       "      <td>1</td>\n",
       "      <td>Rural</td>\n",
       "    </tr>\n",
       "    <tr>\n",
       "      <th>2</th>\n",
       "      <td>LP001005</td>\n",
       "      <td>1</td>\n",
       "      <td>Male</td>\n",
       "      <td>Yes</td>\n",
       "      <td>0</td>\n",
       "      <td>Graduate</td>\n",
       "      <td>Yes</td>\n",
       "      <td>3000</td>\n",
       "      <td>0.0</td>\n",
       "      <td>66</td>\n",
       "      <td>360</td>\n",
       "      <td>1</td>\n",
       "      <td>Urban</td>\n",
       "    </tr>\n",
       "    <tr>\n",
       "      <th>3</th>\n",
       "      <td>LP001006</td>\n",
       "      <td>1</td>\n",
       "      <td>Male</td>\n",
       "      <td>Yes</td>\n",
       "      <td>0</td>\n",
       "      <td>Not Graduate</td>\n",
       "      <td>No</td>\n",
       "      <td>2583</td>\n",
       "      <td>2358.0</td>\n",
       "      <td>120</td>\n",
       "      <td>360</td>\n",
       "      <td>1</td>\n",
       "      <td>Urban</td>\n",
       "    </tr>\n",
       "    <tr>\n",
       "      <th>4</th>\n",
       "      <td>LP001008</td>\n",
       "      <td>1</td>\n",
       "      <td>Male</td>\n",
       "      <td>No</td>\n",
       "      <td>0</td>\n",
       "      <td>Graduate</td>\n",
       "      <td>No</td>\n",
       "      <td>6000</td>\n",
       "      <td>0.0</td>\n",
       "      <td>141</td>\n",
       "      <td>360</td>\n",
       "      <td>1</td>\n",
       "      <td>Urban</td>\n",
       "    </tr>\n",
       "  </tbody>\n",
       "</table>\n",
       "</div>"
      ],
      "text/plain": [
       "    Loan_ID  Loan_Status Gender Married  Dependents     Education  \\\n",
       "0  LP001002            1   Male      No           0      Graduate   \n",
       "1  LP001003            0   Male     Yes           1      Graduate   \n",
       "2  LP001005            1   Male     Yes           0      Graduate   \n",
       "3  LP001006            1   Male     Yes           0  Not Graduate   \n",
       "4  LP001008            1   Male      No           0      Graduate   \n",
       "\n",
       "  Self_Employed  ApplicantIncome  CoapplicantIncome  LoanAmount  \\\n",
       "0            No             5849                0.0          -1   \n",
       "1            No             4583             1508.0         128   \n",
       "2           Yes             3000                0.0          66   \n",
       "3            No             2583             2358.0         120   \n",
       "4            No             6000                0.0         141   \n",
       "\n",
       "   Loan_Amount_Term  Credit_History Property_Area  \n",
       "0               360               1         Urban  \n",
       "1               360               1         Rural  \n",
       "2               360               1         Urban  \n",
       "3               360               1         Urban  \n",
       "4               360               1         Urban  "
      ]
     },
     "execution_count": 2,
     "metadata": {},
     "output_type": "execute_result"
    }
   ],
   "source": [
    "dfcl = read_csv(\"C:\\\\Users\\\\skbho\\\\Downloads\\\\SAMPLE.csv\")\n",
    "dfcl.head()"
   ]
  },
  {
   "cell_type": "markdown",
   "metadata": {},
   "source": [
    "###  Data Preperation\n",
    "\n",
    "**Case of categorical variable interaction.**\n",
    "\n",
    "As we can see there are many categorical variables. Multicollinearity of them is not statistically valid. \n",
    "However, There may be redundant categorical columns which might impact logistic regression. \n",
    "To eliminate it, Pearson's correlation is ineffective.\n",
    "\n",
    "Hence there are following methods used with thier limitations.\n",
    "\n",
    "| |Method|Limitations|\n",
    "|:-|:----|:----------|\n",
    "|1|Spearman Rank Correlation|any Rank correlation only works with Ordinal variables|\n",
    "|2|VIF|VIF gives higher values for `nominal variables with categories > 5 and discrete variables`,  which might suggest elimination. Hence care needs to taken.|\n",
    "|3|Mutual Information| It is good for all categorical variables, but not discrete variables and it can only be used with two variables at a time. Multivariable interaction need more complex coding|"
   ]
  },
  {
   "cell_type": "code",
   "execution_count": 3,
   "metadata": {},
   "outputs": [],
   "source": [
    "#Let us factorize data (we have  binary and nominal categorical variables )\n",
    "ncols=dfcl.columns\n",
    "for cols in ncols:\n",
    "    dfcl[cols],unique=pd.factorize(dfcl[cols])"
   ]
  },
  {
   "cell_type": "code",
   "execution_count": 4,
   "metadata": {},
   "outputs": [
    {
     "name": "stdout",
     "output_type": "stream",
     "text": [
      "Loan_ID              614\n",
      "Loan_Status            2\n",
      "Gender                 3\n",
      "Married                3\n",
      "Dependents             4\n",
      "Education              2\n",
      "Self_Employed          3\n",
      "ApplicantIncome      505\n",
      "CoapplicantIncome    287\n",
      "LoanAmount           204\n",
      "Loan_Amount_Term      11\n",
      "Credit_History         3\n",
      "Property_Area          3\n",
      "dtype: int64\n"
     ]
    },
    {
     "data": {
      "text/html": [
       "<div>\n",
       "<style scoped>\n",
       "    .dataframe tbody tr th:only-of-type {\n",
       "        vertical-align: middle;\n",
       "    }\n",
       "\n",
       "    .dataframe tbody tr th {\n",
       "        vertical-align: top;\n",
       "    }\n",
       "\n",
       "    .dataframe thead th {\n",
       "        text-align: right;\n",
       "    }\n",
       "</style>\n",
       "<table border=\"1\" class=\"dataframe\">\n",
       "  <thead>\n",
       "    <tr style=\"text-align: right;\">\n",
       "      <th></th>\n",
       "      <th>Features</th>\n",
       "      <th>VIF</th>\n",
       "    </tr>\n",
       "  </thead>\n",
       "  <tbody>\n",
       "    <tr>\n",
       "      <th>0</th>\n",
       "      <td>Loan_Status</td>\n",
       "      <td>1.535680</td>\n",
       "    </tr>\n",
       "    <tr>\n",
       "      <th>1</th>\n",
       "      <td>Gender</td>\n",
       "      <td>1.296131</td>\n",
       "    </tr>\n",
       "    <tr>\n",
       "      <th>2</th>\n",
       "      <td>Married</td>\n",
       "      <td>2.912213</td>\n",
       "    </tr>\n",
       "    <tr>\n",
       "      <th>3</th>\n",
       "      <td>Dependents</td>\n",
       "      <td>1.898343</td>\n",
       "    </tr>\n",
       "    <tr>\n",
       "      <th>4</th>\n",
       "      <td>Education</td>\n",
       "      <td>1.313336</td>\n",
       "    </tr>\n",
       "    <tr>\n",
       "      <th>5</th>\n",
       "      <td>Self_Employed</td>\n",
       "      <td>1.169587</td>\n",
       "    </tr>\n",
       "    <tr>\n",
       "      <th>6</th>\n",
       "      <td>ApplicantIncome</td>\n",
       "      <td>3.986918</td>\n",
       "    </tr>\n",
       "    <tr>\n",
       "      <th>7</th>\n",
       "      <td>CoapplicantIncome</td>\n",
       "      <td>2.228462</td>\n",
       "    </tr>\n",
       "    <tr>\n",
       "      <th>8</th>\n",
       "      <td>LoanAmount</td>\n",
       "      <td>3.019496</td>\n",
       "    </tr>\n",
       "    <tr>\n",
       "      <th>9</th>\n",
       "      <td>Loan_Amount_Term</td>\n",
       "      <td>1.190993</td>\n",
       "    </tr>\n",
       "    <tr>\n",
       "      <th>10</th>\n",
       "      <td>Credit_History</td>\n",
       "      <td>1.382607</td>\n",
       "    </tr>\n",
       "    <tr>\n",
       "      <th>11</th>\n",
       "      <td>Property_Area</td>\n",
       "      <td>2.300339</td>\n",
       "    </tr>\n",
       "  </tbody>\n",
       "</table>\n",
       "</div>"
      ],
      "text/plain": [
       "             Features       VIF\n",
       "0         Loan_Status  1.535680\n",
       "1              Gender  1.296131\n",
       "2             Married  2.912213\n",
       "3          Dependents  1.898343\n",
       "4           Education  1.313336\n",
       "5       Self_Employed  1.169587\n",
       "6     ApplicantIncome  3.986918\n",
       "7   CoapplicantIncome  2.228462\n",
       "8          LoanAmount  3.019496\n",
       "9    Loan_Amount_Term  1.190993\n",
       "10     Credit_History  1.382607\n",
       "11      Property_Area  2.300339"
      ]
     },
     "execution_count": 4,
     "metadata": {},
     "output_type": "execute_result"
    }
   ],
   "source": [
    "print(dfcl.nunique())\n",
    "x=dfcl.drop(columns=[\"Loan_ID\"])\n",
    "# We will use VIF but VIF is not useful with discrete non-ordinal variables like LoanAmount and Loan_Amount_Term. It will give high VIF for them, which we will ignore\n",
    "def vifcal(x):\n",
    "#     Calculating VIF\n",
    "    vif = pd.DataFrame()\n",
    "    vif[\"Features\"] = x.columns\n",
    "    vif[\"VIF\"] = [variance_inflation_factor(x.values, i) for i in range(x.shape[1])]\n",
    "    return(vif)\n",
    "    \n",
    "vifcal(x)\n",
    "\n"
   ]
  },
  {
   "cell_type": "code",
   "execution_count": 5,
   "metadata": {},
   "outputs": [],
   "source": [
    "#let us write interaction function for MI\n",
    "MI=np.ndarray((len(cols),len(cols)))\n",
    "def interaction_mi(xdf,N) :\n",
    "    cols=xdf.columns.to_list()\n",
    "    MI=np.ndarray((len(cols),len(cols)))\n",
    "    xdf_MI = pd.DataFrame(columns=cols)\n",
    "    xdf_MI=xdf_MI.astype('float64')\n",
    "    for i in range(xdf.shape[1]):\n",
    "        MI[i]=mutual_info_classif(xdf,xdf.iloc[:,i],n_neighbors=N)\n",
    "        x=MI.tolist()\n",
    "        y=pd.Series(index=cols,name=xdf.columns[i],data=np.round(x[i],decimals=1))\n",
    "        xdf_MI=xdf_MI.append(y)\n",
    "    return(xdf_MI)"
   ]
  },
  {
   "cell_type": "code",
   "execution_count": 6,
   "metadata": {},
   "outputs": [
    {
     "data": {
      "image/png": "[encoded data removed]",
      "text/plain": [
       "<Figure size 432x288 with 2 Axes>"
      ]
     },
     "metadata": {
      "needs_background": "light"
     },
     "output_type": "display_data"
    }
   ],
   "source": [
    "#Let us test data for interaction\n",
    "dfcl_fr=dfcl.drop(columns=[\"Loan_Status\",\"Loan_ID\",\"ApplicantIncome\",\"CoapplicantIncome\",\"LoanAmount\"])\n",
    "dfcl_M=interaction_mi(dfcl_fr,3)\n",
    "\n",
    "p=dfcl_M[dfcl_M[dfcl_M.columns] > 0.1]  \n",
    "sns.heatmap(p, annot=True)\n",
    "plt.show()"
   ]
  },
  {
   "cell_type": "markdown",
   "metadata": {},
   "source": [
    "It is good to see that no categorical variables are interacting."
   ]
  },
  {
   "cell_type": "code",
   "execution_count": 7,
   "metadata": {},
   "outputs": [],
   "source": [
    "#Encode all categorical variables.\n",
    "dfcl_onehot = pd.get_dummies(dfcl, prefix_sep=\"__\",\n",
    "                              columns=[\"Gender\",\"Married\",\"Education\",\"Self_Employed\",\"Credit_History\",\"Property_Area\"])\n",
    "ncols=[\"Gender\",\"Married\",\"Education\",\"Self_Employed\",\"Credit_History\",\"Property_Area\"]"
   ]
  },
  {
   "cell_type": "markdown",
   "metadata": {},
   "source": [
    "#### 3. Split Dataset into train and test datasets"
   ]
  },
  {
   "cell_type": "code",
   "execution_count": 8,
   "metadata": {},
   "outputs": [
    {
     "data": {
      "text/html": [
       "<div>\n",
       "<style scoped>\n",
       "    .dataframe tbody tr th:only-of-type {\n",
       "        vertical-align: middle;\n",
       "    }\n",
       "\n",
       "    .dataframe tbody tr th {\n",
       "        vertical-align: top;\n",
       "    }\n",
       "\n",
       "    .dataframe thead th {\n",
       "        text-align: right;\n",
       "    }\n",
       "</style>\n",
       "<table border=\"1\" class=\"dataframe\">\n",
       "  <thead>\n",
       "    <tr style=\"text-align: right;\">\n",
       "      <th></th>\n",
       "      <th>Loan_Status</th>\n",
       "      <th>Dependents</th>\n",
       "      <th>ApplicantIncome</th>\n",
       "      <th>CoapplicantIncome</th>\n",
       "      <th>LoanAmount</th>\n",
       "      <th>Loan_Amount_Term</th>\n",
       "      <th>Gender__0</th>\n",
       "      <th>Gender__1</th>\n",
       "      <th>Gender__2</th>\n",
       "      <th>Married__0</th>\n",
       "      <th>...</th>\n",
       "      <th>Education__1</th>\n",
       "      <th>Self_Employed__0</th>\n",
       "      <th>Self_Employed__1</th>\n",
       "      <th>Self_Employed__2</th>\n",
       "      <th>Credit_History__0</th>\n",
       "      <th>Credit_History__1</th>\n",
       "      <th>Credit_History__2</th>\n",
       "      <th>Property_Area__0</th>\n",
       "      <th>Property_Area__1</th>\n",
       "      <th>Property_Area__2</th>\n",
       "    </tr>\n",
       "  </thead>\n",
       "  <tbody>\n",
       "    <tr>\n",
       "      <th>564</th>\n",
       "      <td>1</td>\n",
       "      <td>2</td>\n",
       "      <td>471</td>\n",
       "      <td>0</td>\n",
       "      <td>48</td>\n",
       "      <td>0</td>\n",
       "      <td>1</td>\n",
       "      <td>0</td>\n",
       "      <td>0</td>\n",
       "      <td>0</td>\n",
       "      <td>...</td>\n",
       "      <td>0</td>\n",
       "      <td>1</td>\n",
       "      <td>0</td>\n",
       "      <td>0</td>\n",
       "      <td>0</td>\n",
       "      <td>1</td>\n",
       "      <td>0</td>\n",
       "      <td>1</td>\n",
       "      <td>0</td>\n",
       "      <td>0</td>\n",
       "    </tr>\n",
       "    <tr>\n",
       "      <th>38</th>\n",
       "      <td>0</td>\n",
       "      <td>0</td>\n",
       "      <td>29</td>\n",
       "      <td>27</td>\n",
       "      <td>34</td>\n",
       "      <td>0</td>\n",
       "      <td>1</td>\n",
       "      <td>0</td>\n",
       "      <td>0</td>\n",
       "      <td>1</td>\n",
       "      <td>...</td>\n",
       "      <td>0</td>\n",
       "      <td>1</td>\n",
       "      <td>0</td>\n",
       "      <td>0</td>\n",
       "      <td>1</td>\n",
       "      <td>0</td>\n",
       "      <td>0</td>\n",
       "      <td>1</td>\n",
       "      <td>0</td>\n",
       "      <td>0</td>\n",
       "    </tr>\n",
       "    <tr>\n",
       "      <th>123</th>\n",
       "      <td>0</td>\n",
       "      <td>2</td>\n",
       "      <td>109</td>\n",
       "      <td>0</td>\n",
       "      <td>53</td>\n",
       "      <td>0</td>\n",
       "      <td>1</td>\n",
       "      <td>0</td>\n",
       "      <td>0</td>\n",
       "      <td>0</td>\n",
       "      <td>...</td>\n",
       "      <td>0</td>\n",
       "      <td>1</td>\n",
       "      <td>0</td>\n",
       "      <td>0</td>\n",
       "      <td>1</td>\n",
       "      <td>0</td>\n",
       "      <td>0</td>\n",
       "      <td>0</td>\n",
       "      <td>0</td>\n",
       "      <td>1</td>\n",
       "    </tr>\n",
       "    <tr>\n",
       "      <th>29</th>\n",
       "      <td>0</td>\n",
       "      <td>2</td>\n",
       "      <td>28</td>\n",
       "      <td>20</td>\n",
       "      <td>3</td>\n",
       "      <td>0</td>\n",
       "      <td>0</td>\n",
       "      <td>1</td>\n",
       "      <td>0</td>\n",
       "      <td>1</td>\n",
       "      <td>...</td>\n",
       "      <td>0</td>\n",
       "      <td>0</td>\n",
       "      <td>0</td>\n",
       "      <td>1</td>\n",
       "      <td>1</td>\n",
       "      <td>0</td>\n",
       "      <td>0</td>\n",
       "      <td>0</td>\n",
       "      <td>0</td>\n",
       "      <td>1</td>\n",
       "    </tr>\n",
       "    <tr>\n",
       "      <th>12</th>\n",
       "      <td>0</td>\n",
       "      <td>2</td>\n",
       "      <td>12</td>\n",
       "      <td>10</td>\n",
       "      <td>12</td>\n",
       "      <td>0</td>\n",
       "      <td>1</td>\n",
       "      <td>0</td>\n",
       "      <td>0</td>\n",
       "      <td>0</td>\n",
       "      <td>...</td>\n",
       "      <td>0</td>\n",
       "      <td>1</td>\n",
       "      <td>0</td>\n",
       "      <td>0</td>\n",
       "      <td>1</td>\n",
       "      <td>0</td>\n",
       "      <td>0</td>\n",
       "      <td>1</td>\n",
       "      <td>0</td>\n",
       "      <td>0</td>\n",
       "    </tr>\n",
       "    <tr>\n",
       "      <th>275</th>\n",
       "      <td>0</td>\n",
       "      <td>1</td>\n",
       "      <td>242</td>\n",
       "      <td>142</td>\n",
       "      <td>19</td>\n",
       "      <td>0</td>\n",
       "      <td>1</td>\n",
       "      <td>0</td>\n",
       "      <td>0</td>\n",
       "      <td>0</td>\n",
       "      <td>...</td>\n",
       "      <td>0</td>\n",
       "      <td>1</td>\n",
       "      <td>0</td>\n",
       "      <td>0</td>\n",
       "      <td>1</td>\n",
       "      <td>0</td>\n",
       "      <td>0</td>\n",
       "      <td>0</td>\n",
       "      <td>0</td>\n",
       "      <td>1</td>\n",
       "    </tr>\n",
       "    <tr>\n",
       "      <th>497</th>\n",
       "      <td>0</td>\n",
       "      <td>0</td>\n",
       "      <td>412</td>\n",
       "      <td>233</td>\n",
       "      <td>58</td>\n",
       "      <td>10</td>\n",
       "      <td>1</td>\n",
       "      <td>0</td>\n",
       "      <td>0</td>\n",
       "      <td>0</td>\n",
       "      <td>...</td>\n",
       "      <td>0</td>\n",
       "      <td>1</td>\n",
       "      <td>0</td>\n",
       "      <td>0</td>\n",
       "      <td>0</td>\n",
       "      <td>0</td>\n",
       "      <td>1</td>\n",
       "      <td>1</td>\n",
       "      <td>0</td>\n",
       "      <td>0</td>\n",
       "    </tr>\n",
       "    <tr>\n",
       "      <th>31</th>\n",
       "      <td>1</td>\n",
       "      <td>0</td>\n",
       "      <td>30</td>\n",
       "      <td>0</td>\n",
       "      <td>30</td>\n",
       "      <td>0</td>\n",
       "      <td>1</td>\n",
       "      <td>0</td>\n",
       "      <td>0</td>\n",
       "      <td>1</td>\n",
       "      <td>...</td>\n",
       "      <td>0</td>\n",
       "      <td>1</td>\n",
       "      <td>0</td>\n",
       "      <td>0</td>\n",
       "      <td>1</td>\n",
       "      <td>0</td>\n",
       "      <td>0</td>\n",
       "      <td>1</td>\n",
       "      <td>0</td>\n",
       "      <td>0</td>\n",
       "    </tr>\n",
       "    <tr>\n",
       "      <th>433</th>\n",
       "      <td>0</td>\n",
       "      <td>0</td>\n",
       "      <td>362</td>\n",
       "      <td>202</td>\n",
       "      <td>136</td>\n",
       "      <td>0</td>\n",
       "      <td>1</td>\n",
       "      <td>0</td>\n",
       "      <td>0</td>\n",
       "      <td>0</td>\n",
       "      <td>...</td>\n",
       "      <td>0</td>\n",
       "      <td>1</td>\n",
       "      <td>0</td>\n",
       "      <td>0</td>\n",
       "      <td>1</td>\n",
       "      <td>0</td>\n",
       "      <td>0</td>\n",
       "      <td>0</td>\n",
       "      <td>0</td>\n",
       "      <td>1</td>\n",
       "    </tr>\n",
       "    <tr>\n",
       "      <th>34</th>\n",
       "      <td>1</td>\n",
       "      <td>3</td>\n",
       "      <td>33</td>\n",
       "      <td>23</td>\n",
       "      <td>32</td>\n",
       "      <td>0</td>\n",
       "      <td>1</td>\n",
       "      <td>0</td>\n",
       "      <td>0</td>\n",
       "      <td>1</td>\n",
       "      <td>...</td>\n",
       "      <td>0</td>\n",
       "      <td>1</td>\n",
       "      <td>0</td>\n",
       "      <td>0</td>\n",
       "      <td>1</td>\n",
       "      <td>0</td>\n",
       "      <td>0</td>\n",
       "      <td>0</td>\n",
       "      <td>1</td>\n",
       "      <td>0</td>\n",
       "    </tr>\n",
       "  </tbody>\n",
       "</table>\n",
       "<p>10 rows × 23 columns</p>\n",
       "</div>"
      ],
      "text/plain": [
       "     Loan_Status  Dependents  ApplicantIncome  CoapplicantIncome  LoanAmount  \\\n",
       "564            1           2              471                  0          48   \n",
       "38             0           0               29                 27          34   \n",
       "123            0           2              109                  0          53   \n",
       "29             0           2               28                 20           3   \n",
       "12             0           2               12                 10          12   \n",
       "275            0           1              242                142          19   \n",
       "497            0           0              412                233          58   \n",
       "31             1           0               30                  0          30   \n",
       "433            0           0              362                202         136   \n",
       "34             1           3               33                 23          32   \n",
       "\n",
       "     Loan_Amount_Term  Gender__0  Gender__1  Gender__2  Married__0  ...  \\\n",
       "564                 0          1          0          0           0  ...   \n",
       "38                  0          1          0          0           1  ...   \n",
       "123                 0          1          0          0           0  ...   \n",
       "29                  0          0          1          0           1  ...   \n",
       "12                  0          1          0          0           0  ...   \n",
       "275                 0          1          0          0           0  ...   \n",
       "497                10          1          0          0           0  ...   \n",
       "31                  0          1          0          0           1  ...   \n",
       "433                 0          1          0          0           0  ...   \n",
       "34                  0          1          0          0           1  ...   \n",
       "\n",
       "     Education__1  Self_Employed__0  Self_Employed__1  Self_Employed__2  \\\n",
       "564             0                 1                 0                 0   \n",
       "38              0                 1                 0                 0   \n",
       "123             0                 1                 0                 0   \n",
       "29              0                 0                 0                 1   \n",
       "12              0                 1                 0                 0   \n",
       "275             0                 1                 0                 0   \n",
       "497             0                 1                 0                 0   \n",
       "31              0                 1                 0                 0   \n",
       "433             0                 1                 0                 0   \n",
       "34              0                 1                 0                 0   \n",
       "\n",
       "     Credit_History__0  Credit_History__1  Credit_History__2  \\\n",
       "564                  0                  1                  0   \n",
       "38                   1                  0                  0   \n",
       "123                  1                  0                  0   \n",
       "29                   1                  0                  0   \n",
       "12                   1                  0                  0   \n",
       "275                  1                  0                  0   \n",
       "497                  0                  0                  1   \n",
       "31                   1                  0                  0   \n",
       "433                  1                  0                  0   \n",
       "34                   1                  0                  0   \n",
       "\n",
       "     Property_Area__0  Property_Area__1  Property_Area__2  \n",
       "564                 1                 0                 0  \n",
       "38                  1                 0                 0  \n",
       "123                 0                 0                 1  \n",
       "29                  0                 0                 1  \n",
       "12                  1                 0                 0  \n",
       "275                 0                 0                 1  \n",
       "497                 1                 0                 0  \n",
       "31                  1                 0                 0  \n",
       "433                 0                 0                 1  \n",
       "34                  0                 1                 0  \n",
       "\n",
       "[10 rows x 23 columns]"
      ]
     },
     "execution_count": 8,
     "metadata": {},
     "output_type": "execute_result"
    }
   ],
   "source": [
    "dfcl_train, dfcl_test = train_test_split(dfcl_onehot, test_size=0.3)\n",
    "dfcl_train_LID = dfcl_train.filter([\"Loan_ID\"])\n",
    "dfcl_train = dfcl_train.drop(columns=\"Loan_ID\")\n",
    "dfcl_test_LID = dfcl_test.filter([\"Loan_ID\"])\n",
    "dfcl_test = dfcl_test.drop(columns=\"Loan_ID\")\n",
    "dfcl_train.head(10)"
   ]
  },
  {
   "cell_type": "markdown",
   "metadata": {},
   "source": [
    "**Balanced data**\n",
    "\n",
    "We check dataset for balanced data i.e.it has equal samples for all the classes).\n",
    "Unbalanced data, i.e. data that has more samples for one class than others, can make the classifier biased toward the one or two classes with lots of samples, while dwarfing others that have less.\n",
    "i.e. the classifier learns the classes with more samples better and remains weak on the smaller classes.\n",
    "Let us check target variable for class balance."
   ]
  },
  {
   "cell_type": "code",
   "execution_count": 9,
   "metadata": {},
   "outputs": [
    {
     "data": {
      "text/plain": [
       "0    292\n",
       "1    137\n",
       "Name: Loan_Status, dtype: int64"
      ]
     },
     "execution_count": 9,
     "metadata": {},
     "output_type": "execute_result"
    }
   ],
   "source": [
    "dfcl_train.Loan_Status.value_counts()"
   ]
  },
  {
   "cell_type": "markdown",
   "metadata": {},
   "source": [
    "Our dataset is unbalanced as it has more samples for 1 class(295) than 0 class(134). \n",
    "\n",
    "There are various ways data can be balanced as below:\n",
    "\n",
    "Subsampling: Taking a smaller yet equal selection of samples from each class. \n",
    "\n",
    "Upsampling: Taking repeat samples from some classes to increase its numbers.\n",
    "\n",
    "Resampling : using an algorithm like SMOTE to augment the dataset with artificial data."
   ]
  },
  {
   "cell_type": "code",
   "execution_count": 10,
   "metadata": {},
   "outputs": [],
   "source": [
    "# Let us balance train data frame using resampling\n",
    "from sklearn.utils import resample"
   ]
  },
  {
   "cell_type": "code",
   "execution_count": 11,
   "metadata": {},
   "outputs": [
    {
     "data": {
      "text/plain": [
       "1    137\n",
       "0    134\n",
       "Name: Loan_Status, dtype: int64"
      ]
     },
     "execution_count": 11,
     "metadata": {},
     "output_type": "execute_result"
    }
   ],
   "source": [
    "# Separate majority and minority classes\n",
    "dfcl_train_majority = dfcl_train[dfcl_train.Loan_Status==0]\n",
    "dfcl_train_minority = dfcl_train[dfcl_train.Loan_Status==1]\n",
    " \n",
    "### 1. Upsample minority class\n",
    "dfcl_train_minority_upsampled = resample(dfcl_train_minority, \n",
    "                                 replace=True,     # sample with replacement\n",
    "                                 n_samples=295,    # to match majority class\n",
    "                                 random_state=123) # reproducible results\n",
    " \n",
    "# Combine majority class with upsampled minority class\n",
    "dfcl_train_upsampled = pd.concat([dfcl_train_majority, dfcl_train_minority_upsampled])\n",
    " \n",
    "# Display new class counts\n",
    "dfcl_train_upsampled.Loan_Status.value_counts()\n",
    "\n",
    "### 2.  subsample minority class\n",
    "dfcl_train_majority_subsampled = resample(dfcl_train_majority, \n",
    "                                 replace=False,     # sample with replacement\n",
    "                                 n_samples=134,    # to match majority class\n",
    "                                 random_state=123) # reproducible results\n",
    " \n",
    "# Combine majority class with upsampled minority class\n",
    "dfcl_train_subsampled = pd.concat([dfcl_train_majority_subsampled, dfcl_train_minority])\n",
    " \n",
    "# Display new class counts\n",
    "dfcl_train_subsampled.Loan_Status.value_counts()"
   ]
  },
  {
   "cell_type": "code",
   "execution_count": 12,
   "metadata": {},
   "outputs": [],
   "source": [
    "#split X and y for test and train\n",
    "y_dfcl_train = dfcl_train_upsampled.filter([\"Loan_Status\"])\n",
    "x_dfcl_train = dfcl_train_upsampled.drop(columns = [\"Loan_Status\"])\n",
    "y_dfcl_test = dfcl_test.filter([\"Loan_Status\"])\n",
    "x_dfcl_test = dfcl_test.drop(columns = [\"Loan_Status\"])"
   ]
  },
  {
   "cell_type": "markdown",
   "metadata": {},
   "source": [
    "So we are ready to use Logistic Regression.\n",
    "\n",
    "## A. Logistic Regression\n",
    "\n",
    "#### 4. Initialize and fit logistic regression algorithm to training dataset"
   ]
  },
  {
   "cell_type": "code",
   "execution_count": 13,
   "metadata": {},
   "outputs": [],
   "source": [
    "log_reg = LogisticRegression(max_iter=10000,solver=\"lbfgs\")\n",
    "\n",
    "log_reg.fit(x_dfcl_train,y_dfcl_train.values.ravel())\n",
    "\n",
    "y_pred_logres_train = log_reg.predict(x_dfcl_train)"
   ]
  },
  {
   "cell_type": "markdown",
   "metadata": {},
   "source": [
    "### determine accuracy of model\n",
    "#### 5. Accuracy score from model"
   ]
  },
  {
   "cell_type": "code",
   "execution_count": 14,
   "metadata": {},
   "outputs": [
    {
     "name": "stdout",
     "output_type": "stream",
     "text": [
      "0.7632027257240205\n",
      "(array([0, 1], dtype=int64), array([349, 238], dtype=int64))\n"
     ]
    }
   ],
   "source": [
    "sc = log_reg.score(x_dfcl_train,y_dfcl_train.values.ravel())\n",
    "print(sc)\n",
    "# Is our model still predicting just one class?\n",
    "print( np.unique( y_pred_logres_train, return_counts=True ) )\n",
    "# [0 1]\n",
    " #print(log_reg.coef_)\n",
    "#print(\"intercepts :\",log_reg.intercept_)"
   ]
  },
  {
   "cell_type": "markdown",
   "metadata": {},
   "source": [
    "#### 6. Calculate Deviance"
   ]
  },
  {
   "cell_type": "markdown",
   "metadata": {},
   "source": [
    "Deviance is closely related to cross entropy, which is log_loss in sklearn.metrics.log_loss. \n",
    "\n",
    "Deviance = 2*(loglikelihood_of_saturated_model - loglikelihood of fitted model)\n",
    "\n",
    "Scikit learn can (without larger tweaks) only handle classification of individual instances, so that the log-likelihood of the saturated model is going to be zero. \n",
    "\n",
    "Cross entropy as returned by log_loss is the negative log-likelihood. Thus, the deviance is simply 2*log_loss(x,y)"
   ]
  },
  {
   "cell_type": "code",
   "execution_count": 15,
   "metadata": {},
   "outputs": [
    {
     "name": "stdout",
     "output_type": "stream",
     "text": [
      "Deviance : 1.3862943611198906\n"
     ]
    }
   ],
   "source": [
    "from sklearn.metrics import log_loss\n",
    "deviance = 2*log_loss(y_dfcl_train, log_reg.predict_log_proba(x_dfcl_train))\n",
    "print(\"Deviance :\", deviance)"
   ]
  },
  {
   "cell_type": "markdown",
   "metadata": {},
   "source": [
    "#### 7. Measure Accuracy performance of classification\n",
    "\n",
    " AUC for ROC should be >= 0.5"
   ]
  },
  {
   "cell_type": "code",
   "execution_count": 16,
   "metadata": {},
   "outputs": [],
   "source": [
    "def model_perf(x,y,model):\n",
    "    # 1. Confusion Metrics\n",
    "    from sklearn.metrics import confusion_matrix\n",
    "    confusion_matrix = confusion_matrix(y, model.predict(x))\n",
    "    print(confusion_matrix)\n",
    "    # 2. Compute Precision, Recall and F-score\n",
    "    from sklearn.metrics import classification_report\n",
    "    reprt = classification_report(y, model.predict(x),output_dict=True)\n",
    "    class_rep = pd.DataFrame(data=reprt)\n",
    "    print(class_rep)\n",
    "    # 3. Plot ROC curve and Compute AUC\n",
    "    from sklearn.metrics import roc_auc_score\n",
    "    from sklearn.metrics import roc_curve\n",
    "    cls_roc_auc = roc_auc_score(y, model.predict(x))\n",
    "    fpr, tpr, thresholds = roc_curve(y, model.predict_proba(x)[:,1])\n",
    "    print(\"AUC :\",cls_roc_auc)\n",
    "    plt.figure()\n",
    "    plt.plot(fpr, tpr, label='AUC = %0.2f' % cls_roc_auc)\n",
    "    plt.plot([0, 1], [0, 1],'r--')\n",
    "    plt.xlim([0.0, 1.0])\n",
    "    plt.ylim([0.0, 1.05])\n",
    "    plt.xlabel('False Positive Rate')\n",
    "    plt.ylabel('True Positive Rate')\n",
    "    plt.title('Receiver operating characteristic (ROC)')\n",
    "    plt.legend(loc=\"lower right\")\n",
    "    plt.savefig('Log_ROC')\n",
    "    plt.show()"
   ]
  },
  {
   "cell_type": "code",
   "execution_count": 17,
   "metadata": {},
   "outputs": [
    {
     "name": "stdout",
     "output_type": "stream",
     "text": [
      "[[102  28]\n",
      " [ 23  32]]\n",
      "                    0          1  accuracy   macro avg  weighted avg\n",
      "precision    0.816000   0.533333  0.724324    0.674667      0.731964\n",
      "recall       0.784615   0.581818  0.724324    0.683217      0.724324\n",
      "f1-score     0.800000   0.556522  0.724324    0.678261      0.727615\n",
      "support    130.000000  55.000000  0.724324  185.000000    185.000000\n",
      "AUC : 0.6832167832167833\n"
     ]
    },
    {
     "data": {
      "image/png": "[encoded data removed]",
      "text/plain": [
       "<Figure size 432x288 with 1 Axes>"
      ]
     },
     "metadata": {
      "needs_background": "light"
     },
     "output_type": "display_data"
    }
   ],
   "source": [
    "model_perf(x_dfcl_test,y_dfcl_test,log_reg)"
   ]
  },
  {
   "cell_type": "markdown",
   "metadata": {},
   "source": [
    "## B. naive Bayes' Classification\n",
    "\n",
    "#### 1. Check distribution of predictors\n",
    "\n",
    "Since we have 3 Features that are continuos and rest are categorical we will fit GaussianNB first, \n",
    "for that we need to check their density distributions.\n"
   ]
  },
  {
   "cell_type": "code",
   "execution_count": 18,
   "metadata": {},
   "outputs": [
    {
     "data": {
      "image/png": "[encoded data removed]",
      "text/plain": [
       "<Figure size 432x288 with 1 Axes>"
      ]
     },
     "metadata": {
      "needs_background": "light"
     },
     "output_type": "display_data"
    },
    {
     "data": {
      "image/png": "[encoded data removed]",
      "text/plain": [
       "<Figure size 432x288 with 1 Axes>"
      ]
     },
     "metadata": {
      "needs_background": "light"
     },
     "output_type": "display_data"
    }
   ],
   "source": [
    "sns.kdeplot(data=x_dfcl_train.ApplicantIncome)\n",
    "sns.kdeplot(data=x_dfcl_train.CoapplicantIncome)\n",
    "plt.show()\n",
    "sns.kdeplot(data=x_dfcl_train.LoanAmount)\n",
    "plt.show()"
   ]
  },
  {
   "cell_type": "markdown",
   "metadata": {},
   "source": [
    "Now that we are confirm that all are nearly normally distributed let us use gaussianNB<br>\n"
   ]
  },
  {
   "cell_type": "code",
   "execution_count": 19,
   "metadata": {},
   "outputs": [
    {
     "data": {
      "text/plain": [
       "GaussianNB()"
      ]
     },
     "execution_count": 19,
     "metadata": {},
     "output_type": "execute_result"
    }
   ],
   "source": [
    "from sklearn.naive_bayes import GaussianNB\n",
    "gnb_cls = GaussianNB()\n",
    "gnb_cls.fit(x_dfcl_train,y_dfcl_train.values.ravel())"
   ]
  },
  {
   "cell_type": "markdown",
   "metadata": {},
   "source": [
    "#### 2. Measure Model Accuracy"
   ]
  },
  {
   "cell_type": "code",
   "execution_count": 20,
   "metadata": {},
   "outputs": [
    {
     "name": "stdout",
     "output_type": "stream",
     "text": [
      "0.6678023850085179\n",
      "[[53 77]\n",
      " [ 9 46]]\n",
      "                    0          1  accuracy   macro avg  weighted avg\n",
      "precision    0.854839   0.373984  0.535135    0.614411      0.711882\n",
      "recall       0.407692   0.836364  0.535135    0.622028      0.535135\n",
      "f1-score     0.552083   0.516854  0.535135    0.534469      0.541610\n",
      "support    130.000000  55.000000  0.535135  185.000000    185.000000\n",
      "AUC : 0.622027972027972\n"
     ]
    },
    {
     "data": {
      "image/png": "[encoded data removed]",
      "text/plain": [
       "<Figure size 432x288 with 1 Axes>"
      ]
     },
     "metadata": {
      "needs_background": "light"
     },
     "output_type": "display_data"
    }
   ],
   "source": [
    "print(gnb_cls.score(x_dfcl_train,y_dfcl_train))\n",
    "model_perf(x_dfcl_test,y_dfcl_test,gnb_cls)\n",
    "y_pred_gnb = gnb_cls.predict(x_dfcl_test)"
   ]
  },
  {
   "cell_type": "code",
   "execution_count": 21,
   "metadata": {},
   "outputs": [
    {
     "name": "stdout",
     "output_type": "stream",
     "text": [
      "0.5351351351351351\n"
     ]
    }
   ],
   "source": [
    "print(gnb_cls.score(x_dfcl_test,y_dfcl_test))"
   ]
  },
  {
   "cell_type": "markdown",
   "metadata": {},
   "source": [
    "# Results on Training dataset using hyperparameter tuning "
   ]
  },
  {
   "cell_type": "code",
   "execution_count": 22,
   "metadata": {},
   "outputs": [],
   "source": [
    "logModel = LogisticRegression()"
   ]
  },
  {
   "cell_type": "code",
   "execution_count": 23,
   "metadata": {},
   "outputs": [],
   "source": [
    "param_grid = [    \n",
    "    {'penalty' : ['l1', 'l2', 'elasticnet', 'none'],\n",
    "    'C' : np.logspace(-4, 6, 40),\n",
    "    'solver' : ['lbfgs','newton-cg','liblinear','sag','saga'],\n",
    "    'max_iter' : [100,1000]\n",
    "    }\n",
    "]"
   ]
  },
  {
   "cell_type": "code",
   "execution_count": 24,
   "metadata": {},
   "outputs": [],
   "source": [
    "from sklearn.model_selection import GridSearchCV"
   ]
  },
  {
   "cell_type": "code",
   "execution_count": 25,
   "metadata": {},
   "outputs": [],
   "source": [
    "clf = GridSearchCV(logModel, param_grid = param_grid, cv = 3, verbose=True, n_jobs=-1)"
   ]
  },
  {
   "cell_type": "code",
   "execution_count": 26,
   "metadata": {},
   "outputs": [
    {
     "name": "stdout",
     "output_type": "stream",
     "text": [
      "Fitting 3 folds for each of 1600 candidates, totalling 4800 fits\n"
     ]
    }
   ],
   "source": [
    "best_clf = clf.fit(x_dfcl_train,y_dfcl_train)"
   ]
  },
  {
   "cell_type": "code",
   "execution_count": 27,
   "metadata": {},
   "outputs": [
    {
     "data": {
      "text/plain": [
       "LogisticRegression(C=0.06614740641230146, solver='newton-cg')"
      ]
     },
     "execution_count": 27,
     "metadata": {},
     "output_type": "execute_result"
    }
   ],
   "source": [
    "best_clf.best_estimator_\n"
   ]
  },
  {
   "cell_type": "code",
   "execution_count": 29,
   "metadata": {},
   "outputs": [
    {
     "name": "stdout",
     "output_type": "stream",
     "text": [
      "Accuracy - : 0.761\n"
     ]
    }
   ],
   "source": [
    "print (f'Accuracy - : {best_clf.score(x_dfcl_train,y_dfcl_train):.3f}')"
   ]
  },
  {
   "cell_type": "markdown",
   "metadata": {},
   "source": [
    "## Result of Test dataset"
   ]
  },
  {
   "cell_type": "code",
   "execution_count": 28,
   "metadata": {},
   "outputs": [
    {
     "name": "stdout",
     "output_type": "stream",
     "text": [
      "Accuracy - : 0.741\n"
     ]
    }
   ],
   "source": [
    "print (f'Accuracy - : {best_clf.score(x_dfcl_test,y_dfcl_test):.3f}')"
   ]
  },
  {
   "cell_type": "markdown",
   "metadata": {},
   "source": [
    "## Solution to the given problem statement:-\n",
    "\n",
    "By using hyperparameter tuning we trained the data set and improved the accuracy of the model.The following model parameters were user:-\n",
    "1.The penalty in Logistic Regression Classifier i.e. L1 or L2 regularization\n",
    "2.The C parameter\n",
    "After getting the result the best parameters were used.\n",
    "The result using logistic regression were 64% but later by using hyperparameter tuning to the logistic regression the result i.e. the accurqcy predicted is 74.1%\n",
    "The best combination of hyperparameters values were used after trying out different combinations."
   ]
  }
 ],
 "metadata": {
  "kernelspec": {
   "display_name": "Python 3 (ipykernel)",
   "language": "python",
   "name": "python3"
  },
  "language_info": {
   "codemirror_mode": {
    "name": "ipython",
    "version": 3
   },
   "file_extension": ".py",
   "mimetype": "text/x-python",
   "name": "python",
   "nbconvert_exporter": "python",
   "pygments_lexer": "ipython3",
   "version": "3.9.12"
  }
 },
 "nbformat": 4,
 "nbformat_minor": 4
}
